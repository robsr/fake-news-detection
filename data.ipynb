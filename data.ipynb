{
 "cells": [
  {
   "cell_type": "code",
   "execution_count": 1,
   "metadata": {},
   "outputs": [],
   "source": [
    "import numpy as np\n",
    "import pandas as pd\n",
    "import re\n",
    "import pickle"
   ]
  },
  {
   "cell_type": "code",
   "execution_count": 7,
   "metadata": {},
   "outputs": [],
   "source": [
    "# def regexed(string):\n",
    "#     string = re.sub(\"(,|<br>|<br />|\\\"|;|:|'s|-)\", \" \", string)\n",
    "#     string = re.sub(\"[)(]\", \" \", string )\n",
    "#     string = re.sub(\"(\\?|\\!)\",' '+r'\\1'+ \" \", string )\n",
    "#     string = re.sub(\"\\d?\\d\\/\\d\\d\\/\\d\\d\\d\\d\", \"@date\", string ) \n",
    "#     string = re.sub(\"\\d\\d+\", \" NUM \", string)\n",
    "#     string = re.sub(\"\\*\", \" star \", string)\n",
    "#     string = re.sub(\"(\\d)\\/(\\d)\", r'\\1' + \" by \"+r'\\2', string)\n",
    "#     string = re.sub(r\"won't\", \"will not\", string)\n",
    "\n",
    "#     string = re.sub(r\"n\\'t\", \" not\", string)\n",
    "#     string = re.sub(r\"\\'re\", \" are\", string)\n",
    "#     string = re.sub(r\"\\'s\", \" is\", string)\n",
    "#     string = re.sub(r\"\\'d\", \" would\", string)\n",
    "#     string = re.sub(r\"\\'ll\", \" will\", string)\n",
    "#     string = re.sub(r\"\\'t\", \" not\", string)\n",
    "#     string = re.sub(r\"\\'ve\", \" have\", string)\n",
    "#     string = re.sub(r\"\\'m\", \" am\", string)\n",
    "#     string = re.sub(r\"\\'d've\", \" would have\", string)\n",
    "#     string = re.sub(r\"\\'d'y\", \" do you\", string)\n",
    "#     string = re.sub(r\"(\\w)\\/(\\w)\", r'\\1'+ \" or \"+ r'\\2', string)\n",
    "#     string = re.sub(r\"'\", \" \", string)\n",
    "#     string = string.lower()\n",
    "#     string = re.sub(r\"�\", \" \", string)\n",
    "#     string = re.sub(r\"=\", \" equals\", string)\n",
    "    \n",
    "#     return string"
   ]
  },
  {
   "cell_type": "code",
   "execution_count": 29,
   "metadata": {},
   "outputs": [],
   "source": [
    "# train_arr = []\n",
    "# for df in pd.read_csv('./data/train_data1.csv', chunksize=1):\n",
    "#     title = np.array(regexed(str(df.title)).split())\n",
    "#     temp_text = regexed(str(df.text)).split('.')\n",
    "#     text = []\n",
    "#     for sent in temp_text:\n",
    "#         text.append(sent.split())\n",
    "#     text = np.array(text)\n",
    "\n",
    "#     label = np.float32(df.label)\n",
    "\n",
    "#     train_arr.append(np.array([title, text, label]))"
   ]
  },
  {
   "cell_type": "code",
   "execution_count": 31,
   "metadata": {},
   "outputs": [],
   "source": [
    "# with open('train_sample.pickle', 'wb') as f:\n",
    "#     pickle.dump(train_arr, f)"
   ]
  },
  {
   "cell_type": "code",
   "execution_count": 2,
   "metadata": {},
   "outputs": [],
   "source": [
    "with open('train_final','rb') as f:\n",
    "    data = pickle.load(f)"
   ]
  },
  {
   "cell_type": "code",
   "execution_count": 23,
   "metadata": {},
   "outputs": [],
   "source": [
    "with open('train_sample.pickle', 'rb') as f:\n",
    "    data1 = pickle.load(f)"
   ]
  },
  {
   "cell_type": "code",
   "execution_count": null,
   "metadata": {},
   "outputs": [],
   "source": []
  }
 ],
 "metadata": {
  "kernelspec": {
   "display_name": "Python 3",
   "language": "python",
   "name": "python3"
  },
  "language_info": {
   "codemirror_mode": {
    "name": "ipython",
    "version": 3
   },
   "file_extension": ".py",
   "mimetype": "text/x-python",
   "name": "python",
   "nbconvert_exporter": "python",
   "pygments_lexer": "ipython3",
   "version": "3.6.4"
  }
 },
 "nbformat": 4,
 "nbformat_minor": 2
}
