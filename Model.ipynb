{
 "cells": [
  {
   "cell_type": "code",
   "execution_count": 1,
   "metadata": {},
   "outputs": [],
   "source": [
    "import tensorflow as tf\n",
    "tf.logging.set_verbosity(tf.logging.WARN)\n",
    "import pickle\n",
    "import numpy as np\n",
    "import os\n",
    "from sklearn.model_selection import train_test_split\n",
    "from sklearn.metrics import f1_score\n",
    "from sklearn.metrics import accuracy_score\n",
    "import os\n",
    "# from tensorflow.python.client import device_lib601"
   ]
  },
  {
   "cell_type": "code",
   "execution_count": 2,
   "metadata": {},
   "outputs": [],
   "source": [
    "with open('/home/robsr/Study/6_sem/cs671/ass2/glove/word_embedding_glove', 'rb') as f:\n",
    "    word_embedding = pickle.load(f)\n",
    "\n",
    "word_embedding = word_embedding[:len(word_embedding)-1]\n",
    "\n",
    "with open('/home/robsr/Study/6_sem/cs671/ass2/glove/vocab_glove', 'rb') as f:\n",
    "    vocab = pickle.load(f)\n",
    "\n",
    "\n",
    "word2id = dict((w, i) for i,w in enumerate(vocab))\n",
    "id2word = dict((i, w) for i,w in enumerate(vocab))\n",
    "\n",
    "unknown_token = \"UNKNOWN_TOKEN\"\n",
    "\n",
    "with open(\"train_final\", 'rb') as f:\n",
    "    full_data = pickle.load(f)"
   ]
  },
  {
   "cell_type": "code",
   "execution_count": 24,
   "metadata": {},
   "outputs": [],
   "source": [
    "# Parameters\n",
    "mode = 'train'\n",
    "num_classes = 2\n",
    "batch_size = 64\n",
    "vocab_size = len(vocab)\n",
    "unk_vocab_size = 2\n",
    "word_emb_size = len(word_embedding[0])\n",
    "avg_no_sent = 21\n",
    "avg_sent_size = 32\n",
    "max_title_size = 40\n",
    "hidden_size = 100\n",
    "hidden_size2 = 50\n",
    "fc_layer_hidden_size = 100\n",
    "keep_prob = 0.5\n",
    "l2_lambda = 0.001\n",
    "init_lr = 0.001\n",
    "decay_steps = 5000\n",
    "decay_rate = 0.96\n",
    "clip_norm = 1\n",
    "clipping = True"
   ]
  },
  {
   "cell_type": "code",
   "execution_count": 4,
   "metadata": {},
   "outputs": [],
   "source": [
    "def word_emb_maker(mode, x, word_emb_mat, shape_arr):\n",
    "    with tf.name_scope(\"word_embedding_layer\"):\n",
    "        if mode == 'train':\n",
    "            unk_word_emb_mat = tf.get_variable(\"word_emb_mat\", dtype='float', shape=[unk_vocab_size, word_emb_size], initializer=tf.contrib.layers.xavier_initializer(uniform=True, seed=0, dtype=tf.float32))\n",
    "        else:\n",
    "            unk_word_emb_mat = tf.get_variable(\"word_emb_mat\", shape=[unk_vocab_size, word_emb_size], dtype='float')\n",
    "\n",
    "        final_word_emb_mat = tf.concat([word_emb_mat, unk_word_emb_mat], 0)\n",
    "        Wx = tf.nn.embedding_lookup(final_word_emb_mat, x)\n",
    "        \n",
    "        return Wx"
   ]
  },
  {
   "cell_type": "code",
   "execution_count": 5,
   "metadata": {},
   "outputs": [],
   "source": [
    "def word_emb_maker_title(mode, x, word_emb_mat, shape_arr):\n",
    "    with tf.name_scope(\"word_embedding_layer_top\"):\n",
    "        if mode == 'train':\n",
    "            unk_word_emb_mat_t = tf.get_variable(\"word_emb_mat_t\", dtype='float', shape=[unk_vocab_size, word_emb_size], initializer=tf.contrib.layers.xavier_initializer(uniform=True, seed=0, dtype=tf.float32))\n",
    "        else:\n",
    "            unk_word_emb_mat_t = tf.get_variable(\"word_emb_mat_t\", shape=[unk_vocab_size, word_emb_size], dtype='float')\n",
    "\n",
    "        final_word_emb_mat_t = tf.concat([word_emb_mat, unk_word_emb_mat_t], 0)\n",
    "        Wx_t = tf.nn.embedding_lookup(final_word_emb_mat_t, x)\n",
    "        \n",
    "        return Wx_t"
   ]
  },
  {
   "cell_type": "code",
   "execution_count": 6,
   "metadata": {},
   "outputs": [],
   "source": [
    "x = tf.placeholder('int32', [batch_size, avg_no_sent, avg_sent_size], name=\"x\")\n",
    "y = tf.placeholder('int32', [batch_size], name=\"y\")\n",
    "word_emb_mat = tf.placeholder('float', [None, word_emb_size], name='emb_mat')\n",
    "\n",
    "x_mask = tf.placeholder('int32', [batch_size, avg_no_sent, avg_sent_size], name=\"x_mask\")    \n",
    "x_len = tf.reduce_sum(tf.cast(x_mask, 'int32'), 2)    \n",
    "\n",
    " #title\n",
    "x_title = tf.placeholder('int32', [batch_size, max_title_size], name=\"x_title\")\n",
    "x_title_mask  = tf.placeholder('bool', [batch_size, max_title_size], name='x_title_mask')\n",
    "x_title_len = tf.reduce_sum(tf.cast(x_title_mask, 'int32'), 1)\n",
    "\n",
    "x_title_total = tf.placeholder('int32', [batch_size, max_title_size+1], name=\"x_title_total\")\n",
    "x_title_total_mask  = tf.placeholder('bool', [batch_size, max_title_size+1], name='x_title_total_mask')\n",
    "x_title_total_len = tf.reduce_sum(tf.cast(x_title_total_mask, 'int32'), 1)\n",
    "\n",
    "sent_mask = tf.placeholder('int32', [batch_size, avg_no_sent], name=\"sent_mask\")    \n",
    "sent_len = tf.reduce_sum(tf.cast(sent_mask, 'int32'), 1) \n",
    "\n",
    "is_train = tf.placeholder('bool', [], name='is_train')\n",
    "input_keep_prob = tf.cond(is_train,lambda:keep_prob, lambda:tf.constant(1.0))\n",
    "\n",
    "\n",
    "Wx = word_emb_maker(mode='train', x=x, word_emb_mat=word_emb_mat, shape_arr=[unk_vocab_size, word_emb_size])"
   ]
  },
  {
   "cell_type": "code",
   "execution_count": 7,
   "metadata": {},
   "outputs": [],
   "source": [
    "Wx_title= word_emb_maker_title(mode='train',x=x_title, word_emb_mat=word_emb_mat, shape_arr=[unk_vocab_size, word_emb_size])"
   ]
  },
  {
   "cell_type": "code",
   "execution_count": 8,
   "metadata": {
    "scrolled": true
   },
   "outputs": [
    {
     "data": {
      "text/plain": [
       "(<tf.Tensor 'Sum:0' shape=(64, 21) dtype=int32>,\n",
       " <tf.Tensor 'x_mask:0' shape=(64, 21, 32) dtype=int32>,\n",
       " <tf.Tensor 'Reshape:0' shape=(1344, 32, 100) dtype=float32>,\n",
       " <tf.Tensor 'word_embedding_layer/embedding_lookup:0' shape=(64, 21, 32, 100) dtype=float32>,\n",
       " <tf.Tensor 'Reshape_1:0' shape=(1344,) dtype=int32>)"
      ]
     },
     "execution_count": 8,
     "metadata": {},
     "output_type": "execute_result"
    }
   ],
   "source": [
    "flat_wx = tf.reshape(Wx, [batch_size*avg_no_sent, avg_sent_size, word_emb_size])\n",
    "flat_xlen = tf.reshape(x_len, [batch_size*avg_no_sent])\n",
    "x_len, x_mask, flat_wx ,Wx ,flat_xlen"
   ]
  },
  {
   "cell_type": "code",
   "execution_count": 9,
   "metadata": {},
   "outputs": [],
   "source": [
    "with tf.variable_scope(\"lstm_layer\"):\n",
    "    cell_fw = tf.contrib.rnn.BasicLSTMCell(hidden_size,state_is_tuple=True)\n",
    "    cell_bw = tf.contrib.rnn.BasicLSTMCell(hidden_size,state_is_tuple=True)\n",
    "\n",
    "    d_cell_fw = tf.contrib.rnn.DropoutWrapper(cell_fw, input_keep_prob=input_keep_prob)\n",
    "    d_cell_bw = tf.contrib.rnn.DropoutWrapper(cell_bw, input_keep_prob=input_keep_prob)\n",
    "    \n",
    "    (fw_h, bw_h), _ = tf.nn.bidirectional_dynamic_rnn(d_cell_fw, d_cell_bw, flat_wx, sequence_length=flat_xlen, dtype='float', scope='lstm')\n",
    "    h = tf.concat([fw_h, bw_h], 2)"
   ]
  },
  {
   "cell_type": "code",
   "execution_count": 10,
   "metadata": {},
   "outputs": [],
   "source": [
    "h_4d = tf.reshape(h, [batch_size, avg_no_sent, avg_sent_size, 2*hidden_size])\n",
    "#h = tf.reshape(h, [batch_size*avg_no_sent, avg_sent_size, 2*hidden_size]) #flaten_hd"
   ]
  },
  {
   "cell_type": "code",
   "execution_count": 11,
   "metadata": {},
   "outputs": [],
   "source": [
    "with tf.variable_scope(\"W_att_local\"):\n",
    "    W_att_local = tf.get_variable(\"W_att_local\", shape=[2*hidden_size, 1], initializer=tf.truncated_normal_initializer(mean=0.0, stddev=0.1, seed=0))\n",
    "    flat_h = tf.reshape(h, [batch_size*avg_no_sent*avg_sent_size, 2*hidden_size])\n",
    "    h_tanh = tf.tanh(flat_h)\n",
    "    u_flat = tf.matmul(h_tanh, W_att_local)\n",
    "    u_local = tf.reshape(u_flat, [batch_size, avg_no_sent, avg_sent_size])\n",
    "    final_u = (tf.cast(x_mask, 'float') -1)*np.inf + u_local\n",
    "\n",
    "    c = tf.reduce_sum(tf.multiply(h_4d, tf.expand_dims(tf.nn.softmax(final_u, 2), 3)), 2)"
   ]
  },
  {
   "cell_type": "code",
   "execution_count": 12,
   "metadata": {
    "scrolled": true
   },
   "outputs": [
    {
     "data": {
      "text/plain": [
       "(<tf.Tensor 'W_att_local/MatMul:0' shape=(43008, 1) dtype=float32>,\n",
       " <tf.Tensor 'W_att_local/Reshape_1:0' shape=(64, 21, 32) dtype=float32>,\n",
       " <tf.Tensor 'W_att_local/add:0' shape=(64, 21, 32) dtype=float32>,\n",
       " <tf.Tensor 'W_att_local/Sum:0' shape=(64, 21, 200) dtype=float32>,\n",
       " <tf.Tensor 'Sum_3:0' shape=(64,) dtype=int32>)"
      ]
     },
     "execution_count": 12,
     "metadata": {},
     "output_type": "execute_result"
    }
   ],
   "source": [
    "u_flat,u_local, final_u, c, sent_len"
   ]
  },
  {
   "cell_type": "code",
   "execution_count": 13,
   "metadata": {},
   "outputs": [],
   "source": [
    "with tf.variable_scope(\"lstm_layer_2\"):\n",
    "    cell_fw_2 = tf.contrib.rnn.BasicLSTMCell(hidden_size2,state_is_tuple=True)\n",
    "    cell_bw_2 = tf.contrib.rnn.BasicLSTMCell(hidden_size2,state_is_tuple=True)\n",
    "\n",
    "    d_cell_fw_2 = tf.contrib.rnn.DropoutWrapper(cell_fw_2, input_keep_prob=input_keep_prob)\n",
    "    d_cell_bw_2 = tf.contrib.rnn.DropoutWrapper(cell_bw_2, input_keep_prob=input_keep_prob)\n",
    "    \n",
    "    (fw_h_2, bw_h_2), _ = tf.nn.bidirectional_dynamic_rnn(d_cell_fw_2, d_cell_bw_2, c, sequence_length=sent_len, dtype='float', scope='lstm2')\n",
    "    h2 = tf.concat([fw_h_2, bw_h_2], 2)"
   ]
  },
  {
   "cell_type": "code",
   "execution_count": 14,
   "metadata": {},
   "outputs": [],
   "source": [
    "with tf.variable_scope(\"W_att_local_2\"):\n",
    "    W_att_local_2 = tf.get_variable(\"W_att_local_2\", shape=[2*hidden_size2, 1], initializer=tf.truncated_normal_initializer(mean=0.0, stddev=0.1, seed=0))\n",
    "    flat_h_2 = tf.reshape(h2, [batch_size*avg_no_sent, 2*hidden_size2])\n",
    "    h_tanh_2 = tf.tanh(flat_h_2)\n",
    "    u_flat_2 = tf.matmul(h_tanh_2, W_att_local_2)\n",
    "\n",
    "    u_local_2 = tf.reshape(u_flat_2, [batch_size, avg_no_sent])\n",
    "    final_u_2 = (tf.cast(sent_mask, 'float') -1)*np.inf + u_local_2\n",
    "\n",
    "    c2 = tf.reduce_sum(tf.multiply(h2, tf.expand_dims(tf.nn.softmax(final_u_2, 2), 2)), 1)"
   ]
  },
  {
   "cell_type": "code",
   "execution_count": 15,
   "metadata": {
    "scrolled": false
   },
   "outputs": [
    {
     "data": {
      "text/plain": [
       "(<tf.Tensor 'W_att_local_2/MatMul:0' shape=(1344, 1) dtype=float32>,\n",
       " <tf.Tensor 'W_att_local_2/Reshape_1:0' shape=(64, 21) dtype=float32>,\n",
       " <tf.Tensor 'W_att_local_2/add:0' shape=(64, 21) dtype=float32>,\n",
       " <tf.Tensor 'W_att_local_2/Sum:0' shape=(64, 100) dtype=float32>,\n",
       " <tf.Tensor 'word_embedding_layer_top/embedding_lookup:0' shape=(64, 40, 100) dtype=float32>)"
      ]
     },
     "execution_count": 15,
     "metadata": {},
     "output_type": "execute_result"
    }
   ],
   "source": [
    "u_flat_2,u_local_2, final_u_2, c2, Wx_title"
   ]
  },
  {
   "cell_type": "code",
   "execution_count": 16,
   "metadata": {},
   "outputs": [],
   "source": [
    "Wx_final = tf.concat([tf.expand_dims(c2,1), Wx_title],1)"
   ]
  },
  {
   "cell_type": "code",
   "execution_count": 17,
   "metadata": {},
   "outputs": [
    {
     "data": {
      "text/plain": [
       "<tf.Tensor 'concat:0' shape=(64, 41, 100) dtype=float32>"
      ]
     },
     "execution_count": 17,
     "metadata": {},
     "output_type": "execute_result"
    }
   ],
   "source": [
    "Wx_final"
   ]
  },
  {
   "cell_type": "code",
   "execution_count": 18,
   "metadata": {},
   "outputs": [],
   "source": [
    "with tf.variable_scope(\"lstm_layer_top\"):\n",
    "    cell_fw_t = tf.contrib.rnn.BasicLSTMCell(hidden_size,state_is_tuple=True)\n",
    "    cell_bw_t = tf.contrib.rnn.BasicLSTMCell(hidden_size,state_is_tuple=True)\n",
    "\n",
    "    d_cell_fw_t = tf.contrib.rnn.DropoutWrapper(cell_fw_t, input_keep_prob=input_keep_prob)\n",
    "    d_cell_bw_t = tf.contrib.rnn.DropoutWrapper(cell_bw_t, input_keep_prob=input_keep_prob)\n",
    "    \n",
    "    (fw_h_t, bw_h_t), _ = tf.nn.bidirectional_dynamic_rnn(d_cell_fw_t, d_cell_bw_t, Wx_final, sequence_length=x_title_len, dtype='float', scope='lstm_top')\n",
    "    ht = tf.concat([fw_h_t, bw_h_t], 2)"
   ]
  },
  {
   "cell_type": "code",
   "execution_count": 21,
   "metadata": {},
   "outputs": [
    {
     "data": {
      "text/plain": [
       "<tf.Tensor 'x_title_total_mask:0' shape=(64, 41) dtype=bool>"
      ]
     },
     "execution_count": 21,
     "metadata": {},
     "output_type": "execute_result"
    }
   ],
   "source": [
    "x_title_total_mask"
   ]
  },
  {
   "cell_type": "code",
   "execution_count": 22,
   "metadata": {},
   "outputs": [],
   "source": [
    "with tf.variable_scope(\"W_att_local_top\"):\n",
    "    W_att_local_t = tf.get_variable(\"W_att_local_t\", shape=[2*hidden_size, 1], initializer=tf.truncated_normal_initializer(mean=0.0, stddev=0.1, seed=0))\n",
    "    flat_h_t = tf.reshape(ht, [batch_size*(max_title_size+1), 2*hidden_size])\n",
    "    h_tanh_t = tf.tanh(flat_h_t)\n",
    "    u_flat_t = tf.matmul(h_tanh_t, W_att_local_t)\n",
    "\n",
    "    u_local_t = tf.reshape(u_flat_t, [batch_size, max_title_size+1])\n",
    "    final_u_t = (tf.cast(x_title_total_mask, 'float')-1)*np.inf + u_local_t\n",
    "\n",
    "    ct = tf.reduce_sum(tf.multiply(ht, tf.expand_dims(tf.nn.softmax(final_u_t, 2), 2)), 1)"
   ]
  },
  {
   "cell_type": "code",
   "execution_count": 25,
   "metadata": {},
   "outputs": [],
   "source": [
    "with tf.variable_scope(\"fc_layer\"):\n",
    "    W = tf.Variable(tf.truncated_normal([2*hidden_size, num_classes], mean=0.0, stddev=0.1, seed=0), name=\"W\")\n",
    "    b = tf.Variable(tf.zeros([num_classes]), name=\"b\")\n",
    "    drop_ct = tf.nn.dropout(ct, input_keep_prob)\n",
    "    logits = tf.matmul(drop_ct, W) + b\n",
    "    predictions = tf.argmax(logits, 1)"
   ]
  },
  {
   "cell_type": "code",
   "execution_count": 26,
   "metadata": {},
   "outputs": [
    {
     "data": {
      "text/plain": [
       "<tf.Tensor 'fc_layer/ArgMax:0' shape=(64,) dtype=int64>"
      ]
     },
     "execution_count": 26,
     "metadata": {},
     "output_type": "execute_result"
    }
   ],
   "source": [
    "predictions"
   ]
  },
  {
   "cell_type": "code",
   "execution_count": 27,
   "metadata": {},
   "outputs": [
    {
     "name": "stdout",
     "output_type": "stream",
     "text": [
      "WARNING:tensorflow:From /home/robsr/miniconda3/lib/python3.6/site-packages/tensorflow/python/ops/clip_ops.py:113: calling reduce_sum (from tensorflow.python.ops.math_ops) with keep_dims is deprecated and will be removed in a future version.\n",
      "Instructions for updating:\n",
      "keep_dims is deprecated, use keepdims instead\n"
     ]
    }
   ],
   "source": [
    "loss = tf.reduce_mean(tf.nn.sparse_softmax_cross_entropy_with_logits(logits=logits, labels=y))\n",
    "global_step = tf.Variable(0, trainable=False, name=\"global_step\")\n",
    "\n",
    "learning_rate = tf.train.exponential_decay(init_lr, global_step, decay_steps, decay_rate, staircase=True)\n",
    "\n",
    "tv_all = tf.trainable_variables()\n",
    "tv_regu =[]\n",
    "for t in tv_all:\n",
    "    if t.name.find('b:')==-1:\n",
    "        tv_regu.append(t)\n",
    "        \n",
    "# l2 Loss\n",
    "l2_loss = l2_lambda * tf.reduce_sum([ tf.nn.l2_loss(v) for v in tv_regu ])\n",
    "\n",
    "total_loss = loss + l2_loss\n",
    "\n",
    "# Optimizer for loss\n",
    "optimizer = tf.train.AdamOptimizer(learning_rate)\n",
    "\n",
    "# Gradients and Variables for Loss\n",
    "grads_vars = optimizer.compute_gradients(total_loss)\n",
    "\n",
    "# Clipping of Gradients\n",
    "clipped_grads = grads_vars\n",
    "if(clipping == True):\n",
    "    clipped_grads = [(tf.clip_by_norm(grad, clip_norm), var) for grad, var in clipped_grads]\n",
    "\n",
    "# Training Optimizer for Total Loss\n",
    "train_op = optimizer.apply_gradients(clipped_grads, global_step=global_step)\n",
    "\n",
    "# Summaries\n",
    "var_summaries = []\n",
    "for v in tv_all:\n",
    "    var_summary = tf.summary.histogram(\"{}/var\".format(v.name), v)\n",
    "    var_summaries.append(var_summary)\n",
    "\n",
    "var_summaries_merged = tf.summary.merge(var_summaries)\n",
    "\n",
    "loss_summary = tf.summary.scalar(\"loss\", loss)\n",
    "total_loss_summary = tf.summary.scalar(\"total_loss\", total_loss)\n",
    "summary = tf.summary.merge_all()"
   ]
  },
  {
   "cell_type": "code",
   "execution_count": 39,
   "metadata": {},
   "outputs": [],
   "source": [
    "# Model Description\n",
    "model_name = '3HAN_1.0'\n",
    "model_dir = 'output/' + model_name\n",
    "save_dir = os.path.join(model_dir, \"save/\")\n",
    "log_dir = os.path.join(model_dir, \"log\")\n",
    "\n",
    "if not os.path.exists(model_dir):\n",
    "    print(1)\n",
    "    os.mkdir(model_dir)\n",
    "if not os.path.exists(save_dir):\n",
    "    os.mkdir(save_dir)\n",
    "if not os.path.exists(log_dir):\n",
    "    os.mkdir(log_dir)"
   ]
  },
  {
   "cell_type": "code",
   "execution_count": 40,
   "metadata": {},
   "outputs": [],
   "source": [
    "os.environ[\"CUDA_DEVICE_ORDER\"]=\"PCI_BUS_ID\"   # see issue #152\n",
    "os.environ[\"CUDA_VISIBLE_DEVICES\"]=\"0\"\n",
    "sess = tf.Session(config=tf.ConfigProto(allow_soft_placement=True))\n",
    "sess.run(tf.global_variables_initializer())                          # For initializing all the variables\n",
    "saver = tf.train.Saver()                                             # For Saving the model\n",
    "summary_writer = tf.summary.FileWriter(log_dir, sess.graph)          # For writing Summaries"
   ]
  },
  {
   "cell_type": "code",
   "execution_count": 42,
   "metadata": {
    "scrolled": true
   },
   "outputs": [],
   "source": [
    "# Splitting\n",
    "# data_x = full_data[sense_word][0]\n",
    "# data_y = full_data[sense_word][2]\n",
    "# x_train, x_test, y_train, y_test = train_test_split(data_x, data_y, train_size=0.8, shuffle=True, stratify=data_y, random_state=0)\n",
    "\n",
    "# x_train, x_val, y_train, y_val = train_test_split(x_train, y_train, train_size=0.9, shuffle=True, stratify=y_train, random_state=0)"
   ]
  },
  {
   "cell_type": "code",
   "execution_count": null,
   "metadata": {},
   "outputs": [],
   "source": [
    "def data_prepare(x):\n",
    "    num_examples = len(x)\n",
    "\n",
    "    xx = np.zeros([batch_size, avg_no_sent, avg_sent_size], dtype=int)\n",
    "    xx_mask = np.zeros([batch_size, avg_no_sent, avg_sent_size], dtype=bool)\n",
    "    \n",
    "    xx_title = np.zeros([batch_size, avg_no_sent, avg_sent_size], dtype=int)\n",
    "    xx_title_mask = np.zeros([batch_size, avg_no_sent, avg_sent_size], dtype=bool)\n",
    "    \n",
    "    xx_total_title = np.zeros([batch_size, max_title_size+1], dtype=int)\n",
    "    xx_total_title_mask = np.zeros([batch_size, max_title_size+1], dtype=bool)\n",
    "\n",
    "    for j in range(num_examples):\n",
    "        for i in range(max_sent_size):\n",
    "            if(i>=len(x[j])):\n",
    "                break\n",
    "            w = x[j][i]\n",
    "            xx[j][i] = word2id[w] if w in word2id else word2id['UNKNOWN_TOKEN']\n",
    "            xx_mask[j][i] = True\n",
    "            \n",
    "    return xx, xx_mask\n",
    "\n",
    "def eval_score(yy, pred):\n",
    "    num_batches = int(len(yy)/batch_size)\n",
    "    f1 = f1_score(yy[:batch_size*num_batches], pred, average='macro')\n",
    "    accu = accuracy_score(yy[:batch_size*num_batches], pred)\n",
    "    return f1*100, accu*100\n",
    "\n",
    "def model(xx, yy, mask, train_cond=True):\n",
    "    num_batches = int(len(xx)/batch_size)\n",
    "    losses = 0\n",
    "    preds = []\n",
    "    for j in range(num_batches): \n",
    "        \n",
    "        s = j * batch_size\n",
    "        e = (j+1) * batch_size\n",
    "        \n",
    "        feed_dict = {x:xx[s:e], y:yy[s:e], x_mask:mask[s:e], is_train:train_cond, input_keep_prob:keep_prob, word_emb_mat:word_embedding}\n",
    "        \n",
    "        \n",
    "        if(train_cond==True):\n",
    "            _, _loss, step, _summary = sess.run([train_op, total_loss, global_step, summary], feed_dict)\n",
    "            summary_writer.add_summary(_summary, step)  \n",
    "#             print(\"Steps:{}\".format(step), \", Loss: {}\".format(_loss))\n",
    "\n",
    "        else:\n",
    "            _loss, pred = sess.run([total_loss, predictions], feed_dict)\n",
    "            preds.append(pred)\n",
    "            \n",
    "        losses +=_loss\n",
    "\n",
    "    if(train_cond==False):\n",
    "        y_pred = []\n",
    "        for i in range(num_batches):\n",
    "            for pred in preds[i]:\n",
    "                y_pred.append(pred)\n",
    "        return losses/num_batches, y_pred\n",
    "    \n",
    "    return losses/num_batches, step"
   ]
  },
  {
   "cell_type": "code",
   "execution_count": null,
   "metadata": {},
   "outputs": [],
   "source": [
    "x_id_train, mask_train = data_prepare(x_train)\n",
    "x_id_val, mask_val = data_prepare(x_val)\n",
    "x_id_test, mask_test = data_prepare(x_test)\n",
    "y_train = np.array(y_train)"
   ]
  },
  {
   "cell_type": "code",
   "execution_count": null,
   "metadata": {
    "scrolled": true
   },
   "outputs": [],
   "source": [
    "num_epochs = 10\n",
    "\n",
    "for i in range(num_epochs):\n",
    "    \n",
    "    random = np.random.choice(len(y_train), size=(len(y_train)), replace=False)\n",
    "    x_id_train = x_id_train[random]\n",
    "    y_train = y_train[random]\n",
    "    mask_train = mask_train[random]\n",
    "            \n",
    "    losses, step = model(x_id_train, y_train, mask_train)\n",
    "    print(\"Epoch:\", i+1,\"Step:\", step, \"loss:\",losses)\n",
    "    saver.save(sess, save_path=save_dir)                         \n",
    "    print(\"Saved Model Complete\")\n",
    "    \n",
    "    if((i+1)%2==0):\n",
    "        train_loss, train_pred = model(x_id_train, y_train, mask_train, train_cond=False)\n",
    "        f1_, accu_ = eval_score(y_train, train_pred)\n",
    "        print(\"Train: F1 Score: \",  f1_, \"Accuracy: \", accu_, \"Loss: \", train_loss)\n",
    "        val_loss, val_pred = model(x_id_val, y_val, mask_val, train_cond=False)\n",
    "        f1_, accu_ = eval_score(y_val, val_pred)\n",
    "        print(\"Val: F1 Score: \",  f1_, \"Accuracy: \", accu_, \"Loss: \", val_loss)\n",
    "        \n",
    "test_loss, test_pred = model(x_id_test, y_test, mask_test, train_cond=False)\n",
    "f1_, accu_ = eval_score(y_test, test_pred)\n",
    "print(\"Test: F1 Score: \",  f1_, \"Accuracy: \", accu_, \"Loss: \", test_loss)"
   ]
  },
  {
   "cell_type": "code",
   "execution_count": null,
   "metadata": {},
   "outputs": [],
   "source": []
  },
  {
   "cell_type": "code",
   "execution_count": null,
   "metadata": {},
   "outputs": [],
   "source": [
    "saver.restore(sess, save_dir)"
   ]
  }
 ],
 "metadata": {
  "kernelspec": {
   "display_name": "Python 3",
   "language": "python",
   "name": "python3"
  },
  "language_info": {
   "codemirror_mode": {
    "name": "ipython",
    "version": 3
   },
   "file_extension": ".py",
   "mimetype": "text/x-python",
   "name": "python",
   "nbconvert_exporter": "python",
   "pygments_lexer": "ipython3",
   "version": "3.6.4"
  }
 },
 "nbformat": 4,
 "nbformat_minor": 2
}
