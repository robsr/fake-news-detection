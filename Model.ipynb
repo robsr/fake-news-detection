{
 "cells": [
  {
   "cell_type": "code",
   "execution_count": 1,
   "metadata": {},
   "outputs": [],
   "source": [
    "import tensorflow as tf\n",
    "tf.logging.set_verbosity(tf.logging.WARN)\n",
    "import pickle\n",
    "import numpy as np\n",
    "import os\n",
    "from sklearn.model_selection import train_test_split\n",
    "from sklearn.metrics import f1_score\n",
    "from sklearn.metrics import accuracy_score\n",
    "import os\n",
    "import math\n",
    "# from tensorflow.python.client import device_lib601"
   ]
  },
  {
   "cell_type": "code",
   "execution_count": 2,
   "metadata": {},
   "outputs": [],
   "source": [
    "with open('/home/robsr/Study/6_sem/cs671/ass2/glove/word_embedding_glove', 'rb') as f:\n",
    "    word_embedding = pickle.load(f)\n",
    "\n",
    "word_embedding.append([str(1e-5)]*100)\n",
    "\n",
    "with open('/home/robsr/Study/6_sem/cs671/ass2/glove/vocab_glove', 'rb') as f:\n",
    "    vocab = pickle.load(f)\n",
    "\n",
    "vocab.append('PAD')\n",
    "word2id = dict((w, i) for i,w in enumerate(vocab))\n",
    "id2word = dict((i, w) for i,w in enumerate(vocab))\n",
    "\n",
    "unknown_token = \"UNKNOWN_TOKEN\"\n",
    "\n",
    "with open(\"train_final\", 'rb') as f:\n",
    "    full_data = pickle.load(f)"
   ]
  },
  {
   "cell_type": "code",
   "execution_count": 3,
   "metadata": {},
   "outputs": [],
   "source": [
    "# Parameters\n",
    "mode = 'train'\n",
    "num_classes = 2\n",
    "batch_size = 4\n",
    "vocab_size = len(vocab)\n",
    "unk_vocab_size = 2\n",
    "word_emb_size = len(word_embedding[0])\n",
    "avg_no_sent = 10\n",
    "avg_sent_size = 23\n",
    "max_title_size = 22\n",
    "hidden_size = 100\n",
    "hidden_size2 = 50\n",
    "fc_layer_hidden_size = 100\n",
    "keep_prob = 0.5\n",
    "l2_lambda = 0.001\n",
    "init_lr = 0.001\n",
    "decay_steps = 5000\n",
    "decay_rate = 0.96\n",
    "clip_norm = 1\n",
    "clipping = True"
   ]
  },
  {
   "cell_type": "code",
   "execution_count": 4,
   "metadata": {},
   "outputs": [],
   "source": [
    "def word_emb_maker(mode, x, word_emb_mat, shape_arr):\n",
    "    with tf.name_scope(\"word_embedding_layer\"):\n",
    "        if mode == 'train':\n",
    "            unk_word_emb_mat = tf.get_variable(\"word_emb_mat\", dtype='float', shape=[unk_vocab_size, word_emb_size], initializer=tf.contrib.layers.xavier_initializer(uniform=True, seed=0, dtype=tf.float32))\n",
    "        else:\n",
    "            unk_word_emb_mat = tf.get_variable(\"word_emb_mat\", shape=[unk_vocab_size, word_emb_size], dtype='float')\n",
    "\n",
    "        final_word_emb_mat = tf.concat([word_emb_mat, unk_word_emb_mat], 0)\n",
    "        Wx = tf.nn.embedding_lookup(final_word_emb_mat, x)\n",
    "        \n",
    "        return Wx"
   ]
  },
  {
   "cell_type": "code",
   "execution_count": 5,
   "metadata": {},
   "outputs": [],
   "source": [
    "def word_emb_maker_title(mode, x, word_emb_mat, shape_arr):\n",
    "    with tf.name_scope(\"word_embedding_layer_top\"):\n",
    "        if mode == 'train':\n",
    "            unk_word_emb_mat_t = tf.get_variable(\"word_emb_mat_t\", dtype='float', shape=[unk_vocab_size, word_emb_size], initializer=tf.contrib.layers.xavier_initializer(uniform=True, seed=0, dtype=tf.float32))\n",
    "        else:\n",
    "            unk_word_emb_mat_t = tf.get_variable(\"word_emb_mat_t\", shape=[unk_vocab_size, word_emb_size], dtype='float')\n",
    "\n",
    "        final_word_emb_mat_t = tf.concat([word_emb_mat, unk_word_emb_mat_t], 0)\n",
    "        Wx_t = tf.nn.embedding_lookup(final_word_emb_mat_t, x)\n",
    "        \n",
    "        return Wx_t"
   ]
  },
  {
   "cell_type": "code",
   "execution_count": 6,
   "metadata": {},
   "outputs": [],
   "source": [
    "x = tf.placeholder('int32', [None, avg_no_sent, avg_sent_size], name=\"x\")\n",
    "y = tf.placeholder('int32', [None], name=\"y\")\n",
    "word_emb_mat = tf.placeholder('float', [None, word_emb_size], name='emb_mat')\n",
    "\n",
    "x_mask = tf.placeholder('int32', [None, avg_no_sent, avg_sent_size], name=\"x_mask\")    \n",
    "x_len = tf.reduce_sum(tf.cast(x_mask, 'int32'), 2)    \n",
    "\n",
    " #title\n",
    "x_title = tf.placeholder('int32', [None, max_title_size], name=\"x_title\")\n",
    "x_title_mask  = tf.placeholder('bool', [None, max_title_size], name='x_title_mask')\n",
    "x_title_len = tf.reduce_sum(tf.cast(x_title_mask, 'int32'), 1)\n",
    "\n",
    "x_title_total = tf.placeholder('int32', [None, max_title_size+1], name=\"x_title_total\")\n",
    "x_title_total_mask  = tf.placeholder('bool', [None, max_title_size+1], name='x_title_total_mask')\n",
    "x_title_total_len = tf.reduce_sum(tf.cast(x_title_total_mask, 'int32'), 1)\n",
    "\n",
    "sent_mask = tf.placeholder('int32', [None, avg_no_sent], name=\"sent_mask\")    \n",
    "sent_len = tf.reduce_sum(tf.cast(sent_mask, 'int32'), 1) \n",
    "\n",
    "is_train = tf.placeholder('bool', [], name='is_train')\n",
    "input_keep_prob = tf.cond(is_train,lambda:keep_prob, lambda:tf.constant(1.0))\n",
    "\n",
    "\n",
    "Wx = word_emb_maker(mode='train', x=x, word_emb_mat=word_emb_mat, shape_arr=[unk_vocab_size, word_emb_size])"
   ]
  },
  {
   "cell_type": "code",
   "execution_count": 7,
   "metadata": {},
   "outputs": [],
   "source": [
    "Wx_title= word_emb_maker_title(mode='train',x=x_title, word_emb_mat=word_emb_mat, shape_arr=[unk_vocab_size, word_emb_size])"
   ]
  },
  {
   "cell_type": "code",
   "execution_count": 8,
   "metadata": {
    "scrolled": true
   },
   "outputs": [
    {
     "data": {
      "text/plain": [
       "(<tf.Tensor 'Sum:0' shape=(?, 10) dtype=int32>,\n",
       " <tf.Tensor 'x_mask:0' shape=(?, 10, 23) dtype=int32>,\n",
       " <tf.Tensor 'Reshape:0' shape=(?, 23, 100) dtype=float32>,\n",
       " <tf.Tensor 'word_embedding_layer/embedding_lookup:0' shape=(?, 10, 23, 100) dtype=float32>,\n",
       " <tf.Tensor 'Reshape_1:0' shape=(?,) dtype=int32>)"
      ]
     },
     "execution_count": 8,
     "metadata": {},
     "output_type": "execute_result"
    }
   ],
   "source": [
    "flat_wx = tf.reshape(Wx, [-1, avg_sent_size, word_emb_size])\n",
    "flat_xlen = tf.reshape(x_len, [-1])\n",
    "x_len, x_mask, flat_wx ,Wx ,flat_xlen"
   ]
  },
  {
   "cell_type": "code",
   "execution_count": 9,
   "metadata": {},
   "outputs": [],
   "source": [
    "with tf.variable_scope(\"lstm_layer\"):\n",
    "    cell_fw = tf.contrib.rnn.BasicLSTMCell(hidden_size,state_is_tuple=True)\n",
    "    cell_bw = tf.contrib.rnn.BasicLSTMCell(hidden_size,state_is_tuple=True)\n",
    "\n",
    "    d_cell_fw = tf.contrib.rnn.DropoutWrapper(cell_fw, input_keep_prob=input_keep_prob)\n",
    "    d_cell_bw = tf.contrib.rnn.DropoutWrapper(cell_bw, input_keep_prob=input_keep_prob)\n",
    "    \n",
    "    (fw_h, bw_h), _ = tf.nn.bidirectional_dynamic_rnn(d_cell_fw, d_cell_bw, flat_wx, sequence_length=flat_xlen, dtype='float', scope='lstm')\n",
    "    h = tf.concat([fw_h, bw_h], 2)"
   ]
  },
  {
   "cell_type": "code",
   "execution_count": 10,
   "metadata": {},
   "outputs": [],
   "source": [
    "h_4d = tf.reshape(h, [-1, avg_no_sent, avg_sent_size, 2*hidden_size])"
   ]
  },
  {
   "cell_type": "code",
   "execution_count": 11,
   "metadata": {},
   "outputs": [],
   "source": [
    "with tf.variable_scope(\"W_att_local\"):\n",
    "    W_att_local = tf.get_variable(\"W_att_local\", shape=[2*hidden_size, 1], initializer=tf.truncated_normal_initializer(mean=0.0, stddev=0.1, seed=0))\n",
    "    flat_h = tf.reshape(h, [-1, 2*hidden_size])\n",
    "    h_tanh = tf.tanh(flat_h)\n",
    "    u_flat = tf.matmul(h_tanh, W_att_local)\n",
    "    u_local = tf.reshape(u_flat, [-1, avg_no_sent, avg_sent_size])\n",
    "    final_u = (tf.cast(x_mask, 'float') -1)*(1e7) + u_local\n",
    "\n",
    "    c = tf.reduce_sum(tf.multiply(h_4d, tf.expand_dims(tf.nn.softmax(final_u, 2), 3)), 2)"
   ]
  },
  {
   "cell_type": "code",
   "execution_count": 12,
   "metadata": {
    "scrolled": true
   },
   "outputs": [
    {
     "data": {
      "text/plain": [
       "(<tf.Tensor 'W_att_local/MatMul:0' shape=(?, 1) dtype=float32>,\n",
       " <tf.Tensor 'W_att_local/Reshape_1:0' shape=(?, 10, 23) dtype=float32>,\n",
       " <tf.Tensor 'W_att_local/add:0' shape=(?, 10, 23) dtype=float32>,\n",
       " <tf.Tensor 'W_att_local/Sum:0' shape=(?, 10, 200) dtype=float32>,\n",
       " <tf.Tensor 'Sum_3:0' shape=(?,) dtype=int32>)"
      ]
     },
     "execution_count": 12,
     "metadata": {},
     "output_type": "execute_result"
    }
   ],
   "source": [
    "u_flat,u_local, final_u, c, sent_len"
   ]
  },
  {
   "cell_type": "code",
   "execution_count": 13,
   "metadata": {},
   "outputs": [],
   "source": [
    "with tf.variable_scope(\"lstm_layer_2\"):\n",
    "    cell_fw_2 = tf.contrib.rnn.BasicLSTMCell(hidden_size2,state_is_tuple=True)\n",
    "    cell_bw_2 = tf.contrib.rnn.BasicLSTMCell(hidden_size2,state_is_tuple=True)\n",
    "\n",
    "    d_cell_fw_2 = tf.contrib.rnn.DropoutWrapper(cell_fw_2, input_keep_prob=input_keep_prob)\n",
    "    d_cell_bw_2 = tf.contrib.rnn.DropoutWrapper(cell_bw_2, input_keep_prob=input_keep_prob)\n",
    "    \n",
    "    (fw_h_2, bw_h_2), _ = tf.nn.bidirectional_dynamic_rnn(d_cell_fw_2, d_cell_bw_2, c, sequence_length=sent_len, dtype='float', scope='lstm2')\n",
    "    h2 = tf.concat([fw_h_2, bw_h_2], 2)"
   ]
  },
  {
   "cell_type": "code",
   "execution_count": 14,
   "metadata": {},
   "outputs": [],
   "source": [
    "with tf.variable_scope(\"W_att_local_2\"):\n",
    "    W_att_local_2 = tf.get_variable(\"W_att_local_2\", shape=[2*hidden_size2, 1], initializer=tf.truncated_normal_initializer(mean=0.0, stddev=0.1, seed=0))\n",
    "    flat_h_2 = tf.reshape(h2, [-1, 2*hidden_size2])\n",
    "    h_tanh_2 = tf.tanh(flat_h_2)\n",
    "    u_flat_2 = tf.matmul(h_tanh_2, W_att_local_2)\n",
    "\n",
    "    u_local_2 = tf.reshape(u_flat_2, [-1, avg_no_sent])\n",
    "    final_u_2 = (tf.cast(sent_mask, 'float') -1)*(1e7) + u_local_2\n",
    "\n",
    "    c2 = tf.reduce_sum(tf.multiply(h2, tf.expand_dims(tf.nn.softmax(final_u_2, 2), 2)), 1)"
   ]
  },
  {
   "cell_type": "code",
   "execution_count": 15,
   "metadata": {
    "scrolled": true
   },
   "outputs": [
    {
     "data": {
      "text/plain": [
       "(<tf.Tensor 'W_att_local_2/MatMul:0' shape=(?, 1) dtype=float32>,\n",
       " <tf.Tensor 'W_att_local_2/Reshape_1:0' shape=(?, 10) dtype=float32>,\n",
       " <tf.Tensor 'W_att_local_2/add:0' shape=(?, 10) dtype=float32>,\n",
       " <tf.Tensor 'W_att_local_2/Sum:0' shape=(?, 100) dtype=float32>,\n",
       " <tf.Tensor 'word_embedding_layer_top/embedding_lookup:0' shape=(?, 22, 100) dtype=float32>)"
      ]
     },
     "execution_count": 15,
     "metadata": {},
     "output_type": "execute_result"
    }
   ],
   "source": [
    "u_flat_2,u_local_2, final_u_2, c2, Wx_title"
   ]
  },
  {
   "cell_type": "code",
   "execution_count": 16,
   "metadata": {},
   "outputs": [],
   "source": [
    "Wx_final = tf.concat([tf.expand_dims(c2,1), Wx_title],1)"
   ]
  },
  {
   "cell_type": "code",
   "execution_count": 17,
   "metadata": {},
   "outputs": [
    {
     "data": {
      "text/plain": [
       "<tf.Tensor 'concat:0' shape=(?, 23, 100) dtype=float32>"
      ]
     },
     "execution_count": 17,
     "metadata": {},
     "output_type": "execute_result"
    }
   ],
   "source": [
    "Wx_final"
   ]
  },
  {
   "cell_type": "code",
   "execution_count": 18,
   "metadata": {},
   "outputs": [],
   "source": [
    "with tf.variable_scope(\"lstm_layer_top\"):\n",
    "    cell_fw_t = tf.contrib.rnn.BasicLSTMCell(hidden_size,state_is_tuple=True)\n",
    "    cell_bw_t = tf.contrib.rnn.BasicLSTMCell(hidden_size,state_is_tuple=True)\n",
    "\n",
    "    d_cell_fw_t = tf.contrib.rnn.DropoutWrapper(cell_fw_t, input_keep_prob=input_keep_prob)\n",
    "    d_cell_bw_t = tf.contrib.rnn.DropoutWrapper(cell_bw_t, input_keep_prob=input_keep_prob)\n",
    "    \n",
    "    (fw_h_t, bw_h_t), _ = tf.nn.bidirectional_dynamic_rnn(d_cell_fw_t, d_cell_bw_t, Wx_final, sequence_length=x_title_len, dtype='float', scope='lstm_top')\n",
    "    ht = tf.concat([fw_h_t, bw_h_t], 2)"
   ]
  },
  {
   "cell_type": "code",
   "execution_count": 19,
   "metadata": {},
   "outputs": [
    {
     "data": {
      "text/plain": [
       "<tf.Tensor 'x_title_total_mask:0' shape=(?, 23) dtype=bool>"
      ]
     },
     "execution_count": 19,
     "metadata": {},
     "output_type": "execute_result"
    }
   ],
   "source": [
    "x_title_total_mask"
   ]
  },
  {
   "cell_type": "code",
   "execution_count": 20,
   "metadata": {},
   "outputs": [],
   "source": [
    "with tf.variable_scope(\"W_att_local_top\"):\n",
    "    W_att_local_t = tf.get_variable(\"W_att_local_t\", shape=[2*hidden_size, 1], initializer=tf.truncated_normal_initializer(mean=0.0, stddev=0.1, seed=0))\n",
    "    flat_h_t = tf.reshape(ht, [-1, 2*hidden_size])\n",
    "    h_tanh_t = tf.tanh(flat_h_t)\n",
    "    u_flat_t = tf.matmul(h_tanh_t, W_att_local_t)\n",
    "\n",
    "    u_local_t = tf.reshape(u_flat_t, [-1, max_title_size+1])\n",
    "    final_u_t = (tf.cast(x_title_total_mask, 'float')-1)*(1e7) + u_local_t\n",
    "\n",
    "    ct = tf.reduce_sum(tf.multiply(ht, tf.expand_dims(tf.nn.softmax(final_u_t, 2), 2)), 1)"
   ]
  },
  {
   "cell_type": "code",
   "execution_count": 21,
   "metadata": {},
   "outputs": [],
   "source": [
    "with tf.variable_scope(\"fc_layer\"):\n",
    "    W = tf.Variable(tf.truncated_normal([2*hidden_size, num_classes], mean=0.0, stddev=0.1, seed=0), name=\"W\")\n",
    "    b = tf.Variable(tf.zeros([num_classes]), name=\"b\")\n",
    "    drop_ct = tf.nn.dropout(ct, input_keep_prob)\n",
    "    logits = tf.matmul(drop_ct, W) + b\n",
    "    predictions = tf.argmax(logits, 1)"
   ]
  },
  {
   "cell_type": "code",
   "execution_count": 22,
   "metadata": {},
   "outputs": [
    {
     "data": {
      "text/plain": [
       "<tf.Tensor 'fc_layer/ArgMax:0' shape=(?,) dtype=int64>"
      ]
     },
     "execution_count": 22,
     "metadata": {},
     "output_type": "execute_result"
    }
   ],
   "source": [
    "predictions"
   ]
  },
  {
   "cell_type": "code",
   "execution_count": 23,
   "metadata": {},
   "outputs": [
    {
     "name": "stdout",
     "output_type": "stream",
     "text": [
      "WARNING:tensorflow:From /home/robsr/miniconda3/lib/python3.6/site-packages/tensorflow/python/ops/clip_ops.py:113: calling reduce_sum (from tensorflow.python.ops.math_ops) with keep_dims is deprecated and will be removed in a future version.\n",
      "Instructions for updating:\n",
      "keep_dims is deprecated, use keepdims instead\n"
     ]
    }
   ],
   "source": [
    "loss = tf.reduce_mean(tf.nn.sparse_softmax_cross_entropy_with_logits(logits=logits, labels=y))\n",
    "global_step = tf.Variable(0, trainable=False, name=\"global_step\")\n",
    "\n",
    "learning_rate = tf.train.exponential_decay(init_lr, global_step, decay_steps, decay_rate, staircase=True)\n",
    "\n",
    "tv_all = tf.trainable_variables()\n",
    "tv_regu =[]\n",
    "for t in tv_all:\n",
    "    if t.name.find('b:')==-1:\n",
    "        tv_regu.append(t)\n",
    "        \n",
    "# l2 Loss\n",
    "l2_loss = l2_lambda * tf.reduce_sum([ tf.nn.l2_loss(v) for v in tv_regu ])\n",
    "\n",
    "total_loss = loss + l2_loss\n",
    "\n",
    "# Optimizer for loss\n",
    "optimizer = tf.train.AdamOptimizer(learning_rate)\n",
    "\n",
    "# Gradients and Variables for Loss\n",
    "grads_vars = optimizer.compute_gradients(total_loss)\n",
    "\n",
    "# Clipping of Gradients\n",
    "clipped_grads = grads_vars\n",
    "if(clipping == True):\n",
    "    clipped_grads = [(tf.clip_by_norm(grad, clip_norm), var) for grad, var in clipped_grads]\n",
    "\n",
    "# Training Optimizer for Total Loss\n",
    "train_op = optimizer.apply_gradients(clipped_grads, global_step=global_step)\n",
    "\n",
    "# Summaries\n",
    "var_summaries = []\n",
    "for v in tv_all:\n",
    "    var_summary = tf.summary.histogram(\"{}/var\".format(v.name), v)\n",
    "    var_summaries.append(var_summary)\n",
    "\n",
    "var_summaries_merged = tf.summary.merge(var_summaries)\n",
    "\n",
    "loss_summary = tf.summary.scalar(\"loss\", loss)\n",
    "total_loss_summary = tf.summary.scalar(\"total_loss\", total_loss)\n",
    "summary = tf.summary.merge_all()"
   ]
  },
  {
   "cell_type": "code",
   "execution_count": 24,
   "metadata": {},
   "outputs": [],
   "source": [
    "# Model Description\n",
    "model_name = '3HAN_1.0'\n",
    "model_dir = 'output/' + model_name\n",
    "save_dir = os.path.join(model_dir, \"save/\")\n",
    "log_dir = os.path.join(model_dir, \"log\")\n",
    "\n",
    "if not os.path.exists(model_dir):\n",
    "    print(1)\n",
    "    os.mkdir(model_dir)\n",
    "if not os.path.exists(save_dir):\n",
    "    os.mkdir(save_dir)\n",
    "if not os.path.exists(log_dir):\n",
    "    os.mkdir(log_dir)"
   ]
  },
  {
   "cell_type": "code",
   "execution_count": 25,
   "metadata": {},
   "outputs": [],
   "source": [
    "os.environ[\"CUDA_DEVICE_ORDER\"]=\"PCI_BUS_ID\"   # see issue #152\n",
    "os.environ[\"CUDA_VISIBLE_DEVICES\"]=\"0\"\n",
    "sess = tf.Session(config=tf.ConfigProto(allow_soft_placement=True))\n",
    "sess.run(tf.global_variables_initializer())                          # For initializing all the variables\n",
    "saver = tf.train.Saver()                                             # For Saving the model\n",
    "summary_writer = tf.summary.FileWriter(log_dir, sess.graph)          # For writing Summaries"
   ]
  },
  {
   "cell_type": "code",
   "execution_count": 26,
   "metadata": {
    "scrolled": true
   },
   "outputs": [],
   "source": [
    "#Splitting\n",
    "data_x = [data[0:2] for data in full_data]\n",
    "data_y = [data[2] for data in full_data]\n",
    "x_train, x_test, y_train, y_test = train_test_split(data_x[:100], data_y[:100], train_size=0.8, test_size=0.2, shuffle=True, stratify=data_y[:100], random_state=0)\n",
    "\n",
    "x_train, x_val, y_train, y_val = train_test_split(x_train[:100], y_train[:100], train_size=0.9, test_size=0.1, shuffle=True, stratify=y_train[:100], random_state=0)"
   ]
  },
  {
   "cell_type": "code",
   "execution_count": 27,
   "metadata": {},
   "outputs": [],
   "source": [
    "def data_prepare(x):\n",
    "    #x=[news[1] for news in x_]\n",
    "    num_examples = len(x)\n",
    "\n",
    "    xx = np.zeros([num_examples, avg_no_sent, avg_sent_size], dtype=int)\n",
    "    xx_mask = np.zeros([num_examples, avg_no_sent, avg_sent_size], dtype=bool)\n",
    "    \n",
    "    xx_title = np.zeros([num_examples, max_title_size], dtype=int)\n",
    "    xx_title_mask = np.zeros([num_examples, max_title_size], dtype=bool)\n",
    "    \n",
    "    xx_total_title = np.zeros([num_examples, max_title_size+1], dtype=int)\n",
    "    xx_total_title_mask = np.zeros([num_examples, max_title_size+1], dtype=bool)\n",
    "    \n",
    "    ss_mask = np.zeros([num_examples, avg_no_sent], dtype=bool)    \n",
    "\n",
    "    for j in range(num_examples):\n",
    "        for i in range(avg_no_sent):\n",
    "            for k in range(avg_sent_size):\n",
    "                w = x[j][1][i][k]\n",
    "                if w == 'PAD':\n",
    "                    xx[j][i][k] = word2id[w]\n",
    "                elif w in word2id:\n",
    "                    xx[j][i][k] = word2id[w]\n",
    "                    xx_mask[j][i][k] = True\n",
    "                else:\n",
    "                    xx[j][i][k] = word2id['UNKNOWN_TOKEN']\n",
    "                \n",
    "    \n",
    "    for j in range(num_examples):\n",
    "        for i in range(max_title_size):\n",
    "            w = x[j][0][i]\n",
    "            if w == 'PAD':\n",
    "                xx_title[j][i] = word2id[w]\n",
    "            elif w in word2id:\n",
    "                xx_title[j][i] = word2id[w]\n",
    "                xx_title_mask[j][i] = True\n",
    "            else:\n",
    "                xx_title[j][i] = word2id['UNKNOWN_TOKEN']\n",
    "    \n",
    "    for j in range(num_examples):\n",
    "        xx_total_title_mask[j][0] = True\n",
    "        for i in range(max_title_size):\n",
    "            w = x[j][0][i]\n",
    "            if w == 'PAD':\n",
    "                pass\n",
    "            elif w in word2id:\n",
    "                xx_total_title_mask[j][i+1] = True\n",
    "                \n",
    "    \n",
    "    for j in range(num_examples):\n",
    "        for i in range(avg_no_sent):\n",
    "            if all(np.array(x[j][1][i])=='PAD'):\n",
    "                pass\n",
    "            else:\n",
    "                ss_mask[j][i]=True\n",
    "                \n",
    "            \n",
    "    return xx, xx_mask ,xx_title,xx_title_mask,xx_total_title,xx_total_title_mask,ss_mask\n",
    "\n",
    "def eval_score(yy, pred):\n",
    "    num_batches = int(len(yy)/batch_size)\n",
    "    f1 = f1_score(yy[:batch_size*num_batches], pred, average='macro')\n",
    "    accu = accuracy_score(yy[:batch_size*num_batches], pred)\n",
    "    return f1*100, accu*100\n",
    "\n",
    "def model(xx, yy, xx_mask, xx_title, xx_title_mask, xx_title_total_mask, ss_mask, train_cond=True):\n",
    "    num_batches = int(len(xx)/batch_size)\n",
    "    losses = 0\n",
    "    preds = []\n",
    "    for j in range(num_batches): \n",
    "        \n",
    "        s = j * batch_size\n",
    "        e = (j+1) * batch_size\n",
    "        \n",
    "        feed_dict = {word_emb_mat:word_embedding,\n",
    "                     input_keep_prob:keep_prob,\n",
    "                     is_train:train_cond,\n",
    "                     x:xx[s:e], y:yy[s:e], x_mask:xx_mask[s:e],x_title:xx_title[s:e],\n",
    "                     x_title_mask:xx_title_mask[s:e],\n",
    "                     x_title_total_mask:xx_title_total_mask[s:e],\n",
    "                     sent_mask:ss_mask[s:e]}\n",
    "        \n",
    "        \n",
    "        if(train_cond==True):\n",
    "            _, _loss, step, _summary = sess.run([train_op, total_loss, global_step, summary], feed_dict)\n",
    "            summary_writer.add_summary(_summary, step)  \n",
    "#             print(\"Steps:{}\".format(step), \", Loss: {}\".format(_loss))\n",
    "\n",
    "        else:\n",
    "            _loss, pred = sess.run([total_loss, predictions], feed_dict)\n",
    "            preds.append(pred)\n",
    "            \n",
    "        losses +=_loss\n",
    "\n",
    "    if(train_cond==False):\n",
    "        y_pred = []\n",
    "        for i in range(num_batches):\n",
    "            for pred in preds[i]:\n",
    "                y_pred.append(pred)\n",
    "        return losses/num_batches, y_pred\n",
    "    \n",
    "    return losses/num_batches, step"
   ]
  },
  {
   "cell_type": "code",
   "execution_count": 28,
   "metadata": {},
   "outputs": [],
   "source": [
    "xx_train, xx_mask_train ,xx_title_train,xx_title_mask_train,xx_total_title_train,xx_total_title_mask_train,ss_mask_train = data_prepare(x_train)\n",
    "xx_val, xx_mask_val ,xx_title_val,xx_title_mask_val,xx_total_title_val,xx_total_title_mask_val,ss_mask_val = data_prepare(x_val)\n",
    "xx_test, xx_mask_test ,xx_title_test,xx_title_mask_test,xx_total_title_test,xx_total_title_mask_test,ss_mask_test = data_prepare(x_test)\n",
    "yy_train = np.array(y_train).reshape(-1)\n",
    "yy_val = np.array(y_val).reshape(-1)\n",
    "yy_test = np.array(y_test).reshape(-1)"
   ]
  },
  {
   "cell_type": "code",
   "execution_count": 29,
   "metadata": {},
   "outputs": [
    {
     "data": {
      "text/plain": [
       "((72, 10, 23), (8, 10, 23), (20, 10, 23))"
      ]
     },
     "execution_count": 29,
     "metadata": {},
     "output_type": "execute_result"
    }
   ],
   "source": [
    "xx_train.shape, xx_val.shape, xx_test.shape"
   ]
  },
  {
   "cell_type": "code",
   "execution_count": 30,
   "metadata": {
    "scrolled": false
   },
   "outputs": [
    {
     "name": "stdout",
     "output_type": "stream",
     "text": [
      "Epoch: 1 Step: 18 loss: 1.3849383327696059\n",
      "Saved Model Complete\n",
      "Epoch: 2 Step: 36 loss: 1.0446863836712308\n",
      "Saved Model Complete\n",
      "Train: F1 Score:  48.370273794002614 Accuracy:  69.44444444444444 Loss:  1.0541768769423168\n"
     ]
    },
    {
     "name": "stderr",
     "output_type": "stream",
     "text": [
      "/home/robsr/miniconda3/lib/python3.6/site-packages/sklearn/metrics/classification.py:1135: UndefinedMetricWarning: F-score is ill-defined and being set to 0.0 in labels with no predicted samples.\n",
      "  'precision', 'predicted', average, warn_for)\n"
     ]
    },
    {
     "name": "stdout",
     "output_type": "stream",
     "text": [
      "Val: F1 Score:  38.46153846153847 Accuracy:  62.5 Loss:  0.9618063867092133\n",
      "Epoch: 3 Step: 54 loss: 0.9856665498680539\n",
      "Saved Model Complete\n",
      "Epoch: 4 Step: 72 loss: 0.8155928386582268\n",
      "Saved Model Complete\n",
      "Train: F1 Score:  56.592398427260804 Accuracy:  68.05555555555556 Loss:  0.7236949387523863\n",
      "Val: F1 Score:  73.33333333333334 Accuracy:  75.0 Loss:  0.8256507515907288\n",
      "Test: F1 Score:  52.38095238095237 Accuracy:  60.0 Loss:  0.8379292964935303\n"
     ]
    }
   ],
   "source": [
    "num_epochs = 4\n",
    "\n",
    "for i in range(num_epochs):\n",
    "    \n",
    "    random = np.random.choice(len(yy_train), size=(len(yy_train)), replace=False)\n",
    "    xx_train = xx_train[random]\n",
    "    yy_train = yy_train[random]\n",
    "    xx_mask_train = xx_mask_train[random]\n",
    "    xx_title_train = xx_title_train[random]\n",
    "    xx_title_mask_train = xx_title_mask_train[random]                           \n",
    "    xx_total_title_train = xx_total_title_train[random]\n",
    "    xx_total_title_mask_train = xx_total_title_mask_train[random]\n",
    "    ss_mask_train = ss_mask_train[random]\n",
    "            \n",
    "    losses, step = model(xx_train, yy_train, xx_mask_train ,xx_title_train,xx_title_mask_train\n",
    "                        ,xx_total_title_mask_train,ss_mask_train, train_cond=True)\n",
    "    \n",
    "    print(\"Epoch:\", i+1,\"Step:\", step, \"loss:\",losses)\n",
    "    saver.save(sess, save_path=save_dir)                         \n",
    "    print(\"Saved Model Complete\")\n",
    "    \n",
    "    if((i+1)%2==0):\n",
    "        train_loss, train_pred = model(xx_train, yy_train, xx_mask_train ,xx_title_train,xx_title_mask_train,\n",
    "                                       xx_total_title_mask_train,ss_mask_train, train_cond=False)\n",
    "        \n",
    "        f1_, accu_ = eval_score(y_train, train_pred)\n",
    "        print(\"Train: F1 Score: \",  f1_, \"Accuracy: \", accu_, \"Loss: \", train_loss)\n",
    "        \n",
    "        val_loss, val_pred = model(xx_val, yy_val, xx_mask_val ,xx_title_val,xx_title_mask_val,\n",
    "                                   xx_total_title_mask_val,ss_mask_val, train_cond=False)\n",
    "        \n",
    "        f1_, accu_ = eval_score(y_val, val_pred)\n",
    "        print(\"Val: F1 Score: \",  f1_, \"Accuracy: \", accu_, \"Loss: \", val_loss)\n",
    "        \n",
    "test_loss, test_pred = model(xx_test, yy_test, xx_mask_test ,xx_title_test,xx_title_mask_test\n",
    "                             ,xx_total_title_mask_test,ss_mask_test, train_cond=False)\n",
    "\n",
    "f1_, accu_ = eval_score(y_test, test_pred)\n",
    "print(\"Test: F1 Score: \",  f1_, \"Accuracy: \", accu_, \"Loss: \", test_loss)"
   ]
  },
  {
   "cell_type": "code",
   "execution_count": 33,
   "metadata": {},
   "outputs": [
    {
     "data": {
      "text/plain": [
       "(18, 72)"
      ]
     },
     "execution_count": 33,
     "metadata": {},
     "output_type": "execute_result"
    }
   ],
   "source": [
    "int(len(y_train)/batch_size) ,len(train_pred)"
   ]
  },
  {
   "cell_type": "code",
   "execution_count": null,
   "metadata": {},
   "outputs": [],
   "source": [
    "saver.restore(sess, save_dir)"
   ]
  }
 ],
 "metadata": {
  "kernelspec": {
   "display_name": "Python 3",
   "language": "python",
   "name": "python3"
  },
  "language_info": {
   "codemirror_mode": {
    "name": "ipython",
    "version": 3
   },
   "file_extension": ".py",
   "mimetype": "text/x-python",
   "name": "python",
   "nbconvert_exporter": "python",
   "pygments_lexer": "ipython3",
   "version": "3.6.4"
  }
 },
 "nbformat": 4,
 "nbformat_minor": 2
}
